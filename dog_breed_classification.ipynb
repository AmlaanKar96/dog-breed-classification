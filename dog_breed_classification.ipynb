{
  "nbformat": 4,
  "nbformat_minor": 0,
  "metadata": {
    "accelerator": "GPU",
    "colab": {
      "name": "dog_breed_classification",
      "provenance": [],
      "collapsed_sections": [],
      "include_colab_link": true
    },
    "kernelspec": {
      "display_name": "Python 3",
      "name": "python3"
    }
  },
  "cells": [
    {
      "cell_type": "markdown",
      "metadata": {
        "id": "view-in-github",
        "colab_type": "text"
      },
      "source": [
        "<a href=\"https://colab.research.google.com/github/AmlaanKar96/dog-breed-classification/blob/main/dog_breed_classification.ipynb\" target=\"_parent\"><img src=\"https://colab.research.google.com/assets/colab-badge.svg\" alt=\"Open In Colab\"/></a>"
      ]
    },
    {
      "cell_type": "code",
      "metadata": {
        "colab": {
          "base_uri": "https://localhost:8080/"
        },
        "id": "XDt2rlyEp4sV",
        "outputId": "27c5f6ec-f401-45d8-e38e-4f6a384b36b8"
      },
      "source": [
        "from google.colab import drive\n",
        "drive.mount('/content/drive')"
      ],
      "execution_count": 1,
      "outputs": [
        {
          "output_type": "stream",
          "text": [
            "Mounted at /content/drive\n"
          ],
          "name": "stdout"
        }
      ]
    },
    {
      "cell_type": "code",
      "metadata": {
        "id": "SSeWWMg0uptp"
      },
      "source": [
        "import numpy as np\n",
        "import cv2 as cv\n",
        "import matplotlib.pyplot as plt\n",
        "from PIL import Image\n",
        "from keras.engine import  Model\n",
        "from __future__ import absolute_import, division, print_function\n",
        "import os\n",
        "import tensorflow as tf\n",
        "from tensorflow import keras\n",
        "from keras.layers import Conv2D, ZeroPadding2D, Activation, Input, concatenate, MaxPooling2D,Flatten\n",
        "import pickle\n",
        "import glob\n",
        "import matplotlib\n",
        "from keras.models import *\n",
        "from keras.layers import *\n",
        "import keras.backend as K\n",
        "from types import MethodType\n",
        "from tqdm import tqdm\n",
        "import random\n",
        "import itertools\n",
        "import copy\n",
        "from sklearn.neighbors import DistanceMetric\n",
        "from keras.layers.core import Lambda, Dense\n",
        "import math\n",
        "from sklearn.preprocessing import StandardScaler\n",
        "from scipy import spatial\n",
        "from skimage import color\n",
        "from keras.preprocessing.image import ImageDataGenerator"
      ],
      "execution_count": 2,
      "outputs": []
    },
    {
      "cell_type": "markdown",
      "metadata": {
        "id": "jWy-OZc9MFDu"
      },
      "source": [
        "Filenames to be separated into different directories for ImageDataGenerator"
      ]
    },
    {
      "cell_type": "code",
      "metadata": {
        "id": "BRyOqHc4VNNr"
      },
      "source": [
        "filenames=glob.glob('/content/drive/My Drive/Colab Notebooks/Kaggle/dog-breed-identification/train/*')\n",
        "filenames=sorted(filenames)\n",
        "filenames=sorted(filenames,key=len)"
      ],
      "execution_count": null,
      "outputs": []
    },
    {
      "cell_type": "markdown",
      "metadata": {
        "id": "_T20qgMIRcDF"
      },
      "source": [
        "List of all images"
      ]
    },
    {
      "cell_type": "code",
      "metadata": {
        "id": "VRxO6hQ6MteM"
      },
      "source": [
        "from skimage import color\n",
        "train=[]\n",
        "for i in range(len(filenames)):\n",
        "    img=Image.open(filenames[i])\n",
        "    img=img.convert('RGB')\n",
        "    img=img.resize(size=(224,224))\n",
        "    img=np.array(img)\n",
        "    train.append(img)"
      ],
      "execution_count": null,
      "outputs": []
    },
    {
      "cell_type": "code",
      "metadata": {
        "id": "WzFymrYmXr9r"
      },
      "source": [
        "with open('/content/drive/My Drive/Colab Notebooks/Kaggle/dog-breed-identification/train.pkl', 'wb') as f:\n",
        "    pickle.dump(train, f, pickle.HIGHEST_PROTOCOL)\n",
        "# with open('/content/drive/My Drive/Colab Notebooks/Kaggle/dog-breed-identification/train_normalized.pkl', 'wb') as f:\n",
        "#     pickle.dump([train,trainl], f, pickle.HIGHEST_PROTOCOL)"
      ],
      "execution_count": null,
      "outputs": []
    },
    {
      "cell_type": "code",
      "metadata": {
        "id": "Yz5BsESRNdZb"
      },
      "source": [
        "def load_dict(path):\n",
        "    with open(path, 'rb') as f:\n",
        "        return pickle.load(f)\n",
        "# train,trainl=load_dict('/content/drive/My Drive/Colab Notebooks/Kaggle/dog-breed-identification/train_normalized.pkl')\n",
        "train=load_dict('/content/drive/My Drive/Colab Notebooks/Kaggle/dog-breed-identification/train.pkl')"
      ],
      "execution_count": null,
      "outputs": []
    },
    {
      "cell_type": "markdown",
      "metadata": {
        "id": "bclDcooKRgKx"
      },
      "source": [
        "List of labels"
      ]
    },
    {
      "cell_type": "code",
      "metadata": {
        "id": "SbPX2BlvYtL8"
      },
      "source": [
        "import pandas as pd\n",
        "df=pd.read_csv('/content/drive/My Drive/Colab Notebooks/Kaggle/dog-breed-identification/labels.csv')"
      ],
      "execution_count": 4,
      "outputs": []
    },
    {
      "cell_type": "code",
      "metadata": {
        "id": "clm8rh4bK8Vl"
      },
      "source": [
        "label_dict={}\n",
        "labels=['beagle', 'chihuahua', 'doberman', 'french_bulldog', 'golden_retriever', 'malamute', 'pug', 'saint_bernard', 'scottish_deerhound', 'tibetan_mastiff', 'other']\n",
        "for i in range(len(labels)):\n",
        "  label_dict[labels[i]]=i"
      ],
      "execution_count": 5,
      "outputs": []
    },
    {
      "cell_type": "code",
      "metadata": {
        "id": "1KawrvWbE4J4"
      },
      "source": [
        "df=df.values"
      ],
      "execution_count": 6,
      "outputs": []
    },
    {
      "cell_type": "code",
      "metadata": {
        "id": "9DYbgyXmKMng"
      },
      "source": [
        "df_dict={}\n",
        "for i in df:\n",
        "    df_dict[i[0]]=i[1]\n",
        "train_data=[]\n",
        "for i in range(len(filenames)):\n",
        "    ret=filenames[i].split('/')[-1].split('.')[0]\n",
        "    try:\n",
        "        ret1=label_dict[df_dict[ret]]\n",
        "    except:\n",
        "        # continue\n",
        "        ret1=label_dict['other']\n",
        "    train_data.append([train[i],ret1])"
      ],
      "execution_count": null,
      "outputs": []
    },
    {
      "cell_type": "markdown",
      "metadata": {
        "id": "olvE1IV8Rl9s"
      },
      "source": [
        "Separate into train-test by 70:30 split"
      ]
    },
    {
      "cell_type": "code",
      "metadata": {
        "id": "Nm8Pyw_Xy7nA"
      },
      "source": [
        "random.shuffle(filenames)\n",
        "train_names = filenames[:int(0.7*len(filenames))]\n",
        "test_names = filenames[int(0.7*len(filenames)):]"
      ],
      "execution_count": null,
      "outputs": []
    },
    {
      "cell_type": "markdown",
      "metadata": {
        "id": "bSFEGhbURur_"
      },
      "source": [
        "Save images classwise in new folder for Keras ImageDataGenerator"
      ]
    },
    {
      "cell_type": "code",
      "metadata": {
        "id": "xt4xfCJSv32k"
      },
      "source": [
        "import shutil, os\n",
        "from keras.applications.resnet50 import ResNet50, preprocess_input\n",
        "from keras.preprocessing.image import load_img, img_to_array\n",
        "for i in range(len(train_names)):\n",
        "    ret=train_names[i].split('/')[-1].split('.')[0]\n",
        "    try:\n",
        "        ret1=df_dict[ret]\n",
        "        img = load_img(train_names[i], target_size=(224, 224))\n",
        "        img_array = img_to_array(img)\n",
        "        img_ready = preprocess_input(img_array)\n",
        "        cv.imwrite('/content/drive/My Drive/Colab Notebooks/Kaggle/dog-breed-identification/data1/train/'+ret1+'/'+train_names[i].split('/')[-1],img_ready)\n",
        "    except:\n",
        "        continue\n",
        "\n",
        "for i in range(len(test_names)):\n",
        "    ret=test_names[i].split('/')[-1].split('.')[0]\n",
        "    try:\n",
        "        ret1=df_dict[ret]\n",
        "        img = load_img(test_names[i], target_size=(224, 224))\n",
        "        img_array = img_to_array(img)\n",
        "        img_ready = preprocess_input(img_array)\n",
        "        cv.imwrite('/content/drive/My Drive/Colab Notebooks/Kaggle/dog-breed-identification/data1/test/'+ret1+'/'+test_names[i].split('/')[-1],img_ready)\n",
        "    except:\n",
        "        continue"
      ],
      "execution_count": null,
      "outputs": []
    },
    {
      "cell_type": "markdown",
      "metadata": {
        "id": "x96EewoNR5XZ"
      },
      "source": [
        "Keras ImageDataGenerator with data augmentation"
      ]
    },
    {
      "cell_type": "code",
      "metadata": {
        "id": "WF3ivJ_CyGP2"
      },
      "source": [
        "src_path_train = \"/content/drive/My Drive/Colab Notebooks/Kaggle/dog-breed-identification/data1/train/\"\n",
        "src_path_test = \"/content/drive/My Drive/Colab Notebooks/Kaggle/dog-breed-identification/data1/test/\"\n",
        "\n",
        "train_datagen = ImageDataGenerator(\n",
        "        featurewise_center=True,\n",
        "        samplewise_center=True,\n",
        "        featurewise_std_normalization=True,\n",
        "        samplewise_std_normalization=True,\n",
        "        # rescale=1 / 255.0,\n",
        "        rotation_range=20,\n",
        "        zoom_range=0.05,\n",
        "        width_shift_range=0.05,\n",
        "        height_shift_range=0.05,\n",
        "        shear_range=0.05,\n",
        "        horizontal_flip=True,\n",
        "        fill_mode=\"nearest\",\n",
        "        validation_split=0.20)\n",
        "\n",
        "test_datagen = ImageDataGenerator()#rescale=1 / 255.0)"
      ],
      "execution_count": 8,
      "outputs": []
    },
    {
      "cell_type": "code",
      "metadata": {
        "colab": {
          "base_uri": "https://localhost:8080/"
        },
        "id": "UQUZG6Qm4XnG",
        "outputId": "c802c019-e804-4ff9-ac85-1d1f5aab14b9"
      },
      "source": [
        "batch_size = 16\n",
        "train_generator = train_datagen.flow_from_directory(\n",
        "    directory=src_path_train,\n",
        "    target_size=(224, 224),\n",
        "    color_mode=\"rgb\",\n",
        "    batch_size=batch_size,\n",
        "    class_mode=\"categorical\",\n",
        "    subset='training',\n",
        "    shuffle=True,\n",
        "    seed=42\n",
        ")\n",
        "valid_generator = train_datagen.flow_from_directory(\n",
        "    directory=src_path_train,\n",
        "    target_size=(224, 224),\n",
        "    color_mode=\"rgb\",\n",
        "    batch_size=batch_size,\n",
        "    class_mode=\"categorical\",\n",
        "    subset='validation',\n",
        "    shuffle=True,\n",
        "    seed=42\n",
        ")\n",
        "test_generator = test_datagen.flow_from_directory(\n",
        "    directory=src_path_test,\n",
        "    target_size=(224, 224),\n",
        "    color_mode=\"rgb\",\n",
        "    batch_size=1,\n",
        "    class_mode=None,\n",
        "    shuffle=False,\n",
        "    seed=42\n",
        ")"
      ],
      "execution_count": 9,
      "outputs": [
        {
          "output_type": "stream",
          "text": [
            "Found 484 images belonging to 10 classes.\n",
            "Found 116 images belonging to 10 classes.\n",
            "Found 241 images belonging to 10 classes.\n"
          ],
          "name": "stdout"
        }
      ]
    },
    {
      "cell_type": "markdown",
      "metadata": {
        "id": "-mjCg4QtSJ7X"
      },
      "source": [
        "Training a ResNet50 with top removed and 4 FC layers added. Using Imagenet weights helps in improving performance by ~17% compared to training a freshly initialized Resnet50, which overfits quickly. I froze the whole model except the last 4 layers, which are trained for 100 epochs using the augmented dataset. The results obtained work well only for 5 classes, which we increase to 8 by training the model for 20 epochs using the class weights shown in the code."
      ]
    },
    {
      "cell_type": "code",
      "metadata": {
        "colab": {
          "base_uri": "https://localhost:8080/"
        },
        "id": "mgA4UmY_QhoK",
        "outputId": "f1181627-8c7e-46da-fb4f-6d95cfbcf2f0"
      },
      "source": [
        "base_model = keras.applications.ResNet50(\n",
        "    include_top=False,\n",
        "    weights='imagenet',\n",
        "    input_shape=None,\n",
        "    pooling='avg'\n",
        ")\n",
        "for layer in base_model.layers:\n",
        "    layer.trainable = False\n",
        "x=tf.keras.layers.Dropout(.5)(base_model.output)\n",
        "x=Dense(512)(x)\n",
        "x=tf.keras.layers.Dropout(.5)(x)\n",
        "x=Dense(256)(x)\n",
        "x=tf.keras.layers.Dropout(.5)(x)\n",
        "x=Dense(64)(x)\n",
        "x=tf.keras.layers.Dropout(.5)(x)\n",
        "predictions = Dense(10, activation='softmax')(x)\n",
        "model = Model(inputs=base_model.input, outputs=predictions)\n",
        "from keras.callbacks import ModelCheckpoint\n",
        "mcp_save = ModelCheckpoint('/content/drive/My Drive/Colab Notebooks/Kaggle/dog-breed-identification/mdl_wts1.hdf5', save_best_only=True, monitor='val_accuracy', mode='max')\n",
        "model.compile(\n",
        "    loss='binary_crossentropy',\n",
        "    optimizer='adam',metrics=['accuracy']\n",
        ")\n",
        "model.fit(\n",
        "        train_generator,\n",
        "        epochs=100,\n",
        "        validation_data=valid_generator)#,callbacks=[mcp_save],class_weight={0:2,1:2,2:2,3:7,4:7,5:7,6:2,7:7,8:1,9:7})"
      ],
      "execution_count": 14,
      "outputs": [
        {
          "output_type": "stream",
          "text": [
            "/usr/local/lib/python3.7/dist-packages/keras_preprocessing/image/image_data_generator.py:720: UserWarning: This ImageDataGenerator specifies `featurewise_center`, but it hasn't been fit on any training data. Fit it first by calling `.fit(numpy_data)`.\n",
            "  warnings.warn('This ImageDataGenerator specifies '\n",
            "/usr/local/lib/python3.7/dist-packages/keras_preprocessing/image/image_data_generator.py:728: UserWarning: This ImageDataGenerator specifies `featurewise_std_normalization`, but it hasn't been fit on any training data. Fit it first by calling `.fit(numpy_data)`.\n",
            "  warnings.warn('This ImageDataGenerator specifies '\n"
          ],
          "name": "stderr"
        },
        {
          "output_type": "stream",
          "text": [
            "Epoch 1/100\n",
            "31/31 [==============================] - 12s 295ms/step - loss: 0.3116 - accuracy: 0.3435 - val_loss: 0.2948 - val_accuracy: 0.3707\n",
            "Epoch 2/100\n",
            "31/31 [==============================] - 8s 268ms/step - loss: 0.3156 - accuracy: 0.3143 - val_loss: 0.2954 - val_accuracy: 0.3276\n",
            "Epoch 3/100\n",
            "31/31 [==============================] - 8s 272ms/step - loss: 0.3067 - accuracy: 0.3596 - val_loss: 0.3006 - val_accuracy: 0.3534\n",
            "Epoch 4/100\n",
            "31/31 [==============================] - 8s 269ms/step - loss: 0.3119 - accuracy: 0.3136 - val_loss: 0.2910 - val_accuracy: 0.3190\n",
            "Epoch 5/100\n",
            "31/31 [==============================] - 8s 277ms/step - loss: 0.3035 - accuracy: 0.3721 - val_loss: 0.2948 - val_accuracy: 0.2845\n",
            "Epoch 6/100\n",
            "31/31 [==============================] - 8s 272ms/step - loss: 0.2986 - accuracy: 0.3374 - val_loss: 0.2939 - val_accuracy: 0.3534\n",
            "Epoch 7/100\n",
            "31/31 [==============================] - 8s 270ms/step - loss: 0.2913 - accuracy: 0.3793 - val_loss: 0.2982 - val_accuracy: 0.3017\n",
            "Epoch 8/100\n",
            "31/31 [==============================] - 8s 270ms/step - loss: 0.3001 - accuracy: 0.3590 - val_loss: 0.2938 - val_accuracy: 0.3276\n",
            "Epoch 9/100\n",
            "31/31 [==============================] - 8s 270ms/step - loss: 0.2949 - accuracy: 0.3686 - val_loss: 0.2815 - val_accuracy: 0.3621\n",
            "Epoch 10/100\n",
            "31/31 [==============================] - 8s 269ms/step - loss: 0.2953 - accuracy: 0.3697 - val_loss: 0.2884 - val_accuracy: 0.3103\n",
            "Epoch 11/100\n",
            "31/31 [==============================] - 8s 268ms/step - loss: 0.2923 - accuracy: 0.3642 - val_loss: 0.2837 - val_accuracy: 0.3707\n",
            "Epoch 12/100\n",
            "31/31 [==============================] - 8s 268ms/step - loss: 0.2913 - accuracy: 0.3651 - val_loss: 0.2836 - val_accuracy: 0.3707\n",
            "Epoch 13/100\n",
            "31/31 [==============================] - 8s 269ms/step - loss: 0.2883 - accuracy: 0.3592 - val_loss: 0.2881 - val_accuracy: 0.2931\n",
            "Epoch 14/100\n",
            "31/31 [==============================] - 8s 269ms/step - loss: 0.2905 - accuracy: 0.3644 - val_loss: 0.2880 - val_accuracy: 0.3190\n",
            "Epoch 15/100\n",
            "31/31 [==============================] - 8s 272ms/step - loss: 0.2891 - accuracy: 0.3714 - val_loss: 0.2855 - val_accuracy: 0.2845\n",
            "Epoch 16/100\n",
            "31/31 [==============================] - 8s 268ms/step - loss: 0.2767 - accuracy: 0.4124 - val_loss: 0.2898 - val_accuracy: 0.3017\n",
            "Epoch 17/100\n",
            "31/31 [==============================] - 8s 268ms/step - loss: 0.2859 - accuracy: 0.3773 - val_loss: 0.2968 - val_accuracy: 0.3017\n",
            "Epoch 18/100\n",
            "31/31 [==============================] - 8s 268ms/step - loss: 0.2881 - accuracy: 0.3875 - val_loss: 0.3003 - val_accuracy: 0.3362\n",
            "Epoch 19/100\n",
            "31/31 [==============================] - 8s 268ms/step - loss: 0.2819 - accuracy: 0.3808 - val_loss: 0.2888 - val_accuracy: 0.3621\n",
            "Epoch 20/100\n",
            "31/31 [==============================] - 8s 268ms/step - loss: 0.2855 - accuracy: 0.3418 - val_loss: 0.2901 - val_accuracy: 0.3017\n",
            "Epoch 21/100\n",
            "31/31 [==============================] - 8s 269ms/step - loss: 0.2771 - accuracy: 0.3784 - val_loss: 0.2892 - val_accuracy: 0.3017\n",
            "Epoch 22/100\n",
            "31/31 [==============================] - 8s 273ms/step - loss: 0.2847 - accuracy: 0.3793 - val_loss: 0.2913 - val_accuracy: 0.3448\n",
            "Epoch 23/100\n",
            "31/31 [==============================] - 8s 269ms/step - loss: 0.2723 - accuracy: 0.4372 - val_loss: 0.2850 - val_accuracy: 0.3793\n",
            "Epoch 24/100\n",
            "31/31 [==============================] - 8s 269ms/step - loss: 0.2944 - accuracy: 0.3665 - val_loss: 0.2878 - val_accuracy: 0.2845\n",
            "Epoch 25/100\n",
            "31/31 [==============================] - 8s 266ms/step - loss: 0.2846 - accuracy: 0.3674 - val_loss: 0.2911 - val_accuracy: 0.3276\n",
            "Epoch 26/100\n",
            "31/31 [==============================] - 8s 266ms/step - loss: 0.2724 - accuracy: 0.3989 - val_loss: 0.2947 - val_accuracy: 0.3276\n",
            "Epoch 27/100\n",
            "31/31 [==============================] - 8s 265ms/step - loss: 0.2976 - accuracy: 0.3331 - val_loss: 0.2774 - val_accuracy: 0.4052\n",
            "Epoch 28/100\n",
            "31/31 [==============================] - 8s 266ms/step - loss: 0.2729 - accuracy: 0.3897 - val_loss: 0.2920 - val_accuracy: 0.3707\n",
            "Epoch 29/100\n",
            "31/31 [==============================] - 8s 266ms/step - loss: 0.2697 - accuracy: 0.4487 - val_loss: 0.2855 - val_accuracy: 0.2931\n",
            "Epoch 30/100\n",
            "31/31 [==============================] - 8s 266ms/step - loss: 0.2789 - accuracy: 0.3866 - val_loss: 0.2793 - val_accuracy: 0.3448\n",
            "Epoch 31/100\n",
            "31/31 [==============================] - 8s 269ms/step - loss: 0.2745 - accuracy: 0.4174 - val_loss: 0.2797 - val_accuracy: 0.3362\n",
            "Epoch 32/100\n",
            "31/31 [==============================] - 8s 276ms/step - loss: 0.2744 - accuracy: 0.4119 - val_loss: 0.2901 - val_accuracy: 0.2931\n",
            "Epoch 33/100\n",
            "31/31 [==============================] - 8s 268ms/step - loss: 0.2897 - accuracy: 0.3932 - val_loss: 0.2852 - val_accuracy: 0.3362\n",
            "Epoch 34/100\n",
            "31/31 [==============================] - 8s 272ms/step - loss: 0.2658 - accuracy: 0.4330 - val_loss: 0.2812 - val_accuracy: 0.3362\n",
            "Epoch 35/100\n",
            "31/31 [==============================] - 8s 272ms/step - loss: 0.2849 - accuracy: 0.3804 - val_loss: 0.2897 - val_accuracy: 0.3190\n",
            "Epoch 36/100\n",
            "31/31 [==============================] - 8s 268ms/step - loss: 0.2689 - accuracy: 0.4619 - val_loss: 0.2898 - val_accuracy: 0.3190\n",
            "Epoch 37/100\n",
            "31/31 [==============================] - 8s 270ms/step - loss: 0.2802 - accuracy: 0.3915 - val_loss: 0.2916 - val_accuracy: 0.3707\n",
            "Epoch 38/100\n",
            "31/31 [==============================] - 8s 269ms/step - loss: 0.2707 - accuracy: 0.4189 - val_loss: 0.2865 - val_accuracy: 0.3276\n",
            "Epoch 39/100\n",
            "31/31 [==============================] - 8s 267ms/step - loss: 0.2728 - accuracy: 0.4051 - val_loss: 0.3061 - val_accuracy: 0.2328\n",
            "Epoch 40/100\n",
            "31/31 [==============================] - 8s 267ms/step - loss: 0.2723 - accuracy: 0.4032 - val_loss: 0.2875 - val_accuracy: 0.3362\n",
            "Epoch 41/100\n",
            "31/31 [==============================] - 9s 277ms/step - loss: 0.2819 - accuracy: 0.4112 - val_loss: 0.3012 - val_accuracy: 0.3190\n",
            "Epoch 42/100\n",
            "31/31 [==============================] - 8s 274ms/step - loss: 0.2669 - accuracy: 0.4268 - val_loss: 0.3050 - val_accuracy: 0.3190\n",
            "Epoch 43/100\n",
            "31/31 [==============================] - 9s 275ms/step - loss: 0.2595 - accuracy: 0.4473 - val_loss: 0.2891 - val_accuracy: 0.3190\n",
            "Epoch 44/100\n",
            "31/31 [==============================] - 8s 271ms/step - loss: 0.2786 - accuracy: 0.4081 - val_loss: 0.2890 - val_accuracy: 0.3448\n",
            "Epoch 45/100\n",
            "31/31 [==============================] - 8s 266ms/step - loss: 0.2707 - accuracy: 0.3990 - val_loss: 0.2851 - val_accuracy: 0.3017\n",
            "Epoch 46/100\n",
            "31/31 [==============================] - 8s 269ms/step - loss: 0.2730 - accuracy: 0.4176 - val_loss: 0.2981 - val_accuracy: 0.3276\n",
            "Epoch 47/100\n",
            "31/31 [==============================] - 8s 266ms/step - loss: 0.2628 - accuracy: 0.4734 - val_loss: 0.2867 - val_accuracy: 0.3448\n",
            "Epoch 48/100\n",
            "31/31 [==============================] - 8s 267ms/step - loss: 0.2677 - accuracy: 0.4337 - val_loss: 0.3060 - val_accuracy: 0.3190\n",
            "Epoch 49/100\n",
            "31/31 [==============================] - 8s 269ms/step - loss: 0.2691 - accuracy: 0.4082 - val_loss: 0.2898 - val_accuracy: 0.3190\n",
            "Epoch 50/100\n",
            "31/31 [==============================] - 8s 267ms/step - loss: 0.2703 - accuracy: 0.4217 - val_loss: 0.2849 - val_accuracy: 0.3362\n",
            "Epoch 51/100\n",
            "31/31 [==============================] - 8s 268ms/step - loss: 0.2608 - accuracy: 0.4490 - val_loss: 0.2819 - val_accuracy: 0.3707\n",
            "Epoch 52/100\n",
            "31/31 [==============================] - 8s 267ms/step - loss: 0.2625 - accuracy: 0.4553 - val_loss: 0.2855 - val_accuracy: 0.3448\n",
            "Epoch 53/100\n",
            "31/31 [==============================] - 8s 268ms/step - loss: 0.2655 - accuracy: 0.4459 - val_loss: 0.2897 - val_accuracy: 0.3448\n",
            "Epoch 54/100\n",
            "31/31 [==============================] - 8s 270ms/step - loss: 0.2715 - accuracy: 0.3973 - val_loss: 0.2881 - val_accuracy: 0.3448\n",
            "Epoch 55/100\n",
            "31/31 [==============================] - 8s 269ms/step - loss: 0.2801 - accuracy: 0.3991 - val_loss: 0.2860 - val_accuracy: 0.3190\n",
            "Epoch 56/100\n",
            "31/31 [==============================] - 8s 264ms/step - loss: 0.2785 - accuracy: 0.4184 - val_loss: 0.2895 - val_accuracy: 0.3707\n",
            "Epoch 57/100\n",
            "31/31 [==============================] - 8s 267ms/step - loss: 0.2671 - accuracy: 0.4015 - val_loss: 0.2841 - val_accuracy: 0.3966\n",
            "Epoch 58/100\n",
            "31/31 [==============================] - 8s 270ms/step - loss: 0.2732 - accuracy: 0.3874 - val_loss: 0.2921 - val_accuracy: 0.3793\n",
            "Epoch 59/100\n",
            "31/31 [==============================] - 8s 271ms/step - loss: 0.2657 - accuracy: 0.4316 - val_loss: 0.2983 - val_accuracy: 0.3534\n",
            "Epoch 60/100\n",
            "31/31 [==============================] - 8s 269ms/step - loss: 0.2609 - accuracy: 0.4561 - val_loss: 0.2922 - val_accuracy: 0.3190\n",
            "Epoch 61/100\n",
            "31/31 [==============================] - 8s 269ms/step - loss: 0.2492 - accuracy: 0.4784 - val_loss: 0.2833 - val_accuracy: 0.3621\n",
            "Epoch 62/100\n",
            "31/31 [==============================] - 8s 270ms/step - loss: 0.2637 - accuracy: 0.4557 - val_loss: 0.3063 - val_accuracy: 0.3276\n",
            "Epoch 63/100\n",
            "31/31 [==============================] - 8s 270ms/step - loss: 0.2644 - accuracy: 0.4602 - val_loss: 0.2956 - val_accuracy: 0.3966\n",
            "Epoch 64/100\n",
            "31/31 [==============================] - 8s 267ms/step - loss: 0.2622 - accuracy: 0.4483 - val_loss: 0.2869 - val_accuracy: 0.3707\n",
            "Epoch 65/100\n",
            "31/31 [==============================] - 8s 268ms/step - loss: 0.2552 - accuracy: 0.4314 - val_loss: 0.2856 - val_accuracy: 0.3793\n",
            "Epoch 66/100\n",
            "31/31 [==============================] - 8s 268ms/step - loss: 0.2518 - accuracy: 0.4543 - val_loss: 0.3037 - val_accuracy: 0.2931\n",
            "Epoch 67/100\n",
            "31/31 [==============================] - 8s 267ms/step - loss: 0.2613 - accuracy: 0.4544 - val_loss: 0.2902 - val_accuracy: 0.3190\n",
            "Epoch 68/100\n",
            "31/31 [==============================] - 8s 268ms/step - loss: 0.2542 - accuracy: 0.4474 - val_loss: 0.2840 - val_accuracy: 0.4224\n",
            "Epoch 69/100\n",
            "31/31 [==============================] - 8s 266ms/step - loss: 0.2542 - accuracy: 0.4899 - val_loss: 0.3069 - val_accuracy: 0.2931\n",
            "Epoch 70/100\n",
            "31/31 [==============================] - 8s 266ms/step - loss: 0.2670 - accuracy: 0.4496 - val_loss: 0.2857 - val_accuracy: 0.3793\n",
            "Epoch 71/100\n",
            "31/31 [==============================] - 8s 269ms/step - loss: 0.2561 - accuracy: 0.4789 - val_loss: 0.2963 - val_accuracy: 0.3017\n",
            "Epoch 72/100\n",
            "31/31 [==============================] - 8s 270ms/step - loss: 0.2594 - accuracy: 0.4585 - val_loss: 0.3010 - val_accuracy: 0.3103\n",
            "Epoch 73/100\n",
            "31/31 [==============================] - 8s 271ms/step - loss: 0.2556 - accuracy: 0.4711 - val_loss: 0.2867 - val_accuracy: 0.3103\n",
            "Epoch 74/100\n",
            "31/31 [==============================] - 8s 267ms/step - loss: 0.2542 - accuracy: 0.4448 - val_loss: 0.2902 - val_accuracy: 0.2931\n",
            "Epoch 75/100\n",
            "31/31 [==============================] - 8s 266ms/step - loss: 0.2691 - accuracy: 0.4625 - val_loss: 0.2943 - val_accuracy: 0.3362\n",
            "Epoch 76/100\n",
            "31/31 [==============================] - 8s 266ms/step - loss: 0.2517 - accuracy: 0.4727 - val_loss: 0.2812 - val_accuracy: 0.4052\n",
            "Epoch 77/100\n",
            "31/31 [==============================] - 8s 267ms/step - loss: 0.2494 - accuracy: 0.4840 - val_loss: 0.3013 - val_accuracy: 0.3621\n",
            "Epoch 78/100\n",
            "31/31 [==============================] - 8s 267ms/step - loss: 0.2555 - accuracy: 0.4570 - val_loss: 0.2864 - val_accuracy: 0.3276\n",
            "Epoch 79/100\n",
            "31/31 [==============================] - 8s 267ms/step - loss: 0.2617 - accuracy: 0.4355 - val_loss: 0.2859 - val_accuracy: 0.3966\n",
            "Epoch 80/100\n",
            "31/31 [==============================] - 8s 266ms/step - loss: 0.2482 - accuracy: 0.4850 - val_loss: 0.2886 - val_accuracy: 0.4138\n",
            "Epoch 81/100\n",
            "31/31 [==============================] - 8s 266ms/step - loss: 0.2600 - accuracy: 0.4805 - val_loss: 0.2939 - val_accuracy: 0.3879\n",
            "Epoch 82/100\n",
            "31/31 [==============================] - 8s 268ms/step - loss: 0.2604 - accuracy: 0.4847 - val_loss: 0.2838 - val_accuracy: 0.3276\n",
            "Epoch 83/100\n",
            "31/31 [==============================] - 8s 268ms/step - loss: 0.2526 - accuracy: 0.4880 - val_loss: 0.2985 - val_accuracy: 0.3448\n",
            "Epoch 84/100\n",
            "31/31 [==============================] - 8s 266ms/step - loss: 0.2581 - accuracy: 0.4510 - val_loss: 0.3000 - val_accuracy: 0.2845\n",
            "Epoch 85/100\n",
            "31/31 [==============================] - 8s 268ms/step - loss: 0.2586 - accuracy: 0.4789 - val_loss: 0.2820 - val_accuracy: 0.3362\n",
            "Epoch 86/100\n",
            "31/31 [==============================] - 8s 268ms/step - loss: 0.2526 - accuracy: 0.4777 - val_loss: 0.2776 - val_accuracy: 0.3017\n",
            "Epoch 87/100\n",
            "31/31 [==============================] - 8s 266ms/step - loss: 0.2437 - accuracy: 0.4714 - val_loss: 0.3109 - val_accuracy: 0.2586\n",
            "Epoch 88/100\n",
            "31/31 [==============================] - 8s 265ms/step - loss: 0.2558 - accuracy: 0.4388 - val_loss: 0.2784 - val_accuracy: 0.4052\n",
            "Epoch 89/100\n",
            "31/31 [==============================] - 8s 266ms/step - loss: 0.2589 - accuracy: 0.4552 - val_loss: 0.2936 - val_accuracy: 0.3276\n",
            "Epoch 90/100\n",
            "31/31 [==============================] - 8s 269ms/step - loss: 0.2444 - accuracy: 0.5185 - val_loss: 0.2903 - val_accuracy: 0.3362\n",
            "Epoch 91/100\n",
            "31/31 [==============================] - 8s 265ms/step - loss: 0.2421 - accuracy: 0.4661 - val_loss: 0.3056 - val_accuracy: 0.3276\n",
            "Epoch 92/100\n",
            "31/31 [==============================] - 8s 266ms/step - loss: 0.2498 - accuracy: 0.4825 - val_loss: 0.2841 - val_accuracy: 0.3276\n",
            "Epoch 93/100\n",
            "31/31 [==============================] - 8s 264ms/step - loss: 0.2465 - accuracy: 0.5288 - val_loss: 0.2968 - val_accuracy: 0.3190\n",
            "Epoch 94/100\n",
            "31/31 [==============================] - 8s 266ms/step - loss: 0.2679 - accuracy: 0.4513 - val_loss: 0.2911 - val_accuracy: 0.2931\n",
            "Epoch 95/100\n",
            "31/31 [==============================] - 8s 264ms/step - loss: 0.2452 - accuracy: 0.5100 - val_loss: 0.2973 - val_accuracy: 0.3534\n",
            "Epoch 96/100\n",
            "31/31 [==============================] - 8s 267ms/step - loss: 0.2562 - accuracy: 0.4975 - val_loss: 0.3015 - val_accuracy: 0.3103\n",
            "Epoch 97/100\n",
            "31/31 [==============================] - 8s 268ms/step - loss: 0.2398 - accuracy: 0.5056 - val_loss: 0.2904 - val_accuracy: 0.3276\n",
            "Epoch 98/100\n",
            "31/31 [==============================] - 8s 267ms/step - loss: 0.2536 - accuracy: 0.4457 - val_loss: 0.2898 - val_accuracy: 0.3190\n",
            "Epoch 99/100\n",
            "31/31 [==============================] - 8s 264ms/step - loss: 0.2459 - accuracy: 0.4986 - val_loss: 0.2950 - val_accuracy: 0.2500\n",
            "Epoch 100/100\n",
            "31/31 [==============================] - 8s 265ms/step - loss: 0.2507 - accuracy: 0.4614 - val_loss: 0.3010 - val_accuracy: 0.3276\n"
          ],
          "name": "stdout"
        },
        {
          "output_type": "execute_result",
          "data": {
            "text/plain": [
              "<tensorflow.python.keras.callbacks.History at 0x7f1c8059f250>"
            ]
          },
          "metadata": {
            "tags": []
          },
          "execution_count": 14
        }
      ]
    },
    {
      "cell_type": "code",
      "metadata": {
        "id": "ckYdZ4D7BJ_o"
      },
      "source": [
        "model.load_weights('/content/drive/My Drive/Colab Notebooks/Kaggle/dog-breed-identification/mdl_wts1.hdf5')"
      ],
      "execution_count": 13,
      "outputs": []
    },
    {
      "cell_type": "code",
      "metadata": {
        "colab": {
          "base_uri": "https://localhost:8080/"
        },
        "id": "J_P9mpu61hQR",
        "outputId": "6712b609-7f87-4d6d-fdfe-00049e0f6406"
      },
      "source": [
        "from sklearn import metrics\n",
        "predictions = model.predict(test_generator)\n",
        "predicted_classes = np.argmax(predictions, axis=1)\n",
        "true_classes = test_generator.classes\n",
        "class_labels = list(test_generator.class_indices.keys())\n",
        "report = metrics.classification_report(true_classes, predicted_classes, target_names=class_labels)\n",
        "print(report)"
      ],
      "execution_count": 12,
      "outputs": [
        {
          "output_type": "stream",
          "text": [
            "                    precision    recall  f1-score   support\n",
            "\n",
            "            beagle       0.33      0.18      0.23        28\n",
            "         chihuahua       0.25      0.29      0.27        21\n",
            "          doberman       0.31      0.15      0.21        26\n",
            "    french_bulldog       0.00      0.00      0.00        15\n",
            "  golden_retriever       0.23      0.52      0.32        25\n",
            "          malamute       1.00      0.29      0.45        17\n",
            "               pug       0.22      0.69      0.34        29\n",
            "     saint_bernard       0.71      0.25      0.37        20\n",
            "scottish_deerhound       0.55      0.40      0.46        40\n",
            "   tibetan_mastiff       0.00      0.00      0.00        20\n",
            "\n",
            "          accuracy                           0.31       241\n",
            "         macro avg       0.36      0.28      0.26       241\n",
            "      weighted avg       0.37      0.31      0.29       241\n",
            "\n"
          ],
          "name": "stdout"
        },
        {
          "output_type": "stream",
          "text": [
            "/usr/local/lib/python3.7/dist-packages/sklearn/metrics/_classification.py:1272: UndefinedMetricWarning: Precision and F-score are ill-defined and being set to 0.0 in labels with no predicted samples. Use `zero_division` parameter to control this behavior.\n",
            "  _warn_prf(average, modifier, msg_start, len(result))\n"
          ],
          "name": "stderr"
        }
      ]
    },
    {
      "cell_type": "code",
      "metadata": {
        "colab": {
          "base_uri": "https://localhost:8080/"
        },
        "id": "rOzfV1xK5TM7",
        "outputId": "0f6b9ad4-699c-4b41-8ec2-d68ce0971c7e"
      },
      "source": [
        "tg={}\n",
        "for i in test_generator.class_indices:\n",
        "    tg[test_generator.class_indices[i]]=i\n",
        "tg"
      ],
      "execution_count": 13,
      "outputs": [
        {
          "output_type": "execute_result",
          "data": {
            "text/plain": [
              "{0: 'beagle',\n",
              " 1: 'chihuahua',\n",
              " 2: 'doberman',\n",
              " 3: 'french_bulldog',\n",
              " 4: 'golden_retriever',\n",
              " 5: 'malamute',\n",
              " 6: 'pug',\n",
              " 7: 'saint_bernard',\n",
              " 8: 'scottish_deerhound',\n",
              " 9: 'tibetan_mastiff'}"
            ]
          },
          "metadata": {
            "tags": []
          },
          "execution_count": 13
        }
      ]
    },
    {
      "cell_type": "code",
      "metadata": {
        "colab": {
          "base_uri": "https://localhost:8080/",
          "height": 375
        },
        "id": "C7-UlEHq15_r",
        "outputId": "68034dcf-b391-42f2-bfc8-37e947d4344c"
      },
      "source": [
        "from sklearn.metrics import confusion_matrix,accuracy_score\n",
        "import pandas as pd\n",
        "cm=confusion_matrix(true_classes, predicted_classes)\n",
        "columns = [i for i in list(test_generator.class_indices.keys())]\n",
        "import seaborn as sns\n",
        "df_cm = pd.DataFrame(cm, index=columns, columns=columns)\n",
        "sns.heatmap(df_cm,annot=True)"
      ],
      "execution_count": 14,
      "outputs": [
        {
          "output_type": "execute_result",
          "data": {
            "text/plain": [
              "<matplotlib.axes._subplots.AxesSubplot at 0x7ff259fa6610>"
            ]
          },
          "metadata": {
            "tags": []
          },
          "execution_count": 14
        },
        {
          "output_type": "display_data",
          "data": {
            "image/png": "[encoded data removed]",
            "text/plain": [
              "<Figure size 432x288 with 2 Axes>"
            ]
          },
          "metadata": {
            "tags": [],
            "needs_background": "light"
          }
        }
      ]
    },
    {
      "cell_type": "code",
      "metadata": {
        "colab": {
          "base_uri": "https://localhost:8080/"
        },
        "id": "NTZSLp9S-ONQ",
        "outputId": "75bb9bb0-ebe8-4e10-b1a2-8f6274b5058a"
      },
      "source": [
        "from sklearn.metrics import roc_auc_score\n",
        "print(roc_auc_score(true_classes,predictions,multi_class='ovr'))\n",
        "print(accuracy_score(true_classes,predicted_classes))"
      ],
      "execution_count": null,
      "outputs": [
        {
          "output_type": "stream",
          "text": [
            "0.7020200920696644\n",
            "0.25311203319502074\n"
          ],
          "name": "stdout"
        }
      ]
    },
    {
      "cell_type": "markdown",
      "metadata": {
        "id": "h4DI0T_QTiyS"
      },
      "source": [
        "Locally Deploy app using dog_breed_app.ipynb. Test app using dog_breed_final_run.ipynb"
      ]
    },
    {
      "cell_type": "code",
      "metadata": {
        "id": "6cJ865cpvGmn"
      },
      "source": [
        ""
      ],
      "execution_count": null,
      "outputs": []
    }
  ]
}