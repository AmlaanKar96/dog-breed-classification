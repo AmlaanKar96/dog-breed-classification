{
  "nbformat": 4,
  "nbformat_minor": 0,
  "metadata": {
    "colab": {
      "name": "dog_breed_final_run.ipynb",
      "provenance": [],
      "collapsed_sections": [],
      "authorship_tag": "ABX9TyOYhgLwycanpFgmC2XU1wcP"
    },
    "kernelspec": {
      "name": "python3",
      "display_name": "Python 3"
    }
  },
  "cells": [
    {
      "cell_type": "code",
      "metadata": {
        "colab": {
          "base_uri": "https://localhost:8080/"
        },
        "id": "MmiK0zOeFvUE",
        "outputId": "52b0a51b-9c6e-4fc3-d577-533a110ce014"
      },
      "source": [
        "# from google.colab import drive\n",
        "# drive.mount('/content/drive')"
      ],
      "execution_count": 1,
      "outputs": [
        {
          "output_type": "stream",
          "text": [
            "Mounted at /content/drive\n"
          ],
          "name": "stdout"
        }
      ]
    },
    {
      "cell_type": "code",
      "metadata": {
        "id": "XVhml403YVkk"
      },
      "source": [
        "import base64\n",
        "import requests\n",
        "with open('/content/drive/My Drive/Colab Notebooks/Kaggle/dog-breed-identification/data1/test/scottish_deerhound/01e787576c003930f96c966f9c3e1d44.jpg', \"rb\") as imageFile:\n",
        "    b64_image = base64.b64encode(imageFile.read())\n",
        "\n",
        "# data to be sent to api\n",
        "data = {'b64': b64_image}\n",
        "\n",
        "# sending post request and saving response as response object\n",
        "r = requests.post(url='http://1dbc96acc648.ngrok.io/predict', data=data)"
      ],
      "execution_count": 10,
      "outputs": []
    },
    {
      "cell_type": "code",
      "metadata": {
        "colab": {
          "base_uri": "https://localhost:8080/"
        },
        "id": "T2Cy_vy9YnaR",
        "outputId": "724d58a2-81a8-401f-e5c0-cdfb709eaa66"
      },
      "source": [
        "r.json()"
      ],
      "execution_count": 11,
      "outputs": [
        {
          "output_type": "execute_result",
          "data": {
            "text/plain": [
              "{'breed': 'scottish_deerhound', 'score': 0.8852065205574036}"
            ]
          },
          "metadata": {
            "tags": []
          },
          "execution_count": 11
        }
      ]
    },
    {
      "cell_type": "code",
      "metadata": {
        "id": "fDYpY0QXclCn"
      },
      "source": [
        ""
      ],
      "execution_count": null,
      "outputs": []
    }
  ]
}